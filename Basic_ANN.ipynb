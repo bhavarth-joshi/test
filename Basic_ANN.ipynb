{
  "nbformat": 4,
  "nbformat_minor": 0,
  "metadata": {
    "colab": {
      "provenance": [],
      "mount_file_id": "18NiY8Z9hWJq1wJzv56-BnGYBdECBlmO2",
      "authorship_tag": "ABX9TyN8Sq+ft1lM7ySDo70B2xgf",
      "include_colab_link": true
    },
    "kernelspec": {
      "name": "python3",
      "display_name": "Python 3"
    },
    "language_info": {
      "name": "python"
    },
    "accelerator": "GPU",
    "gpuClass": "standard"
  },
  "cells": [
    {
      "cell_type": "markdown",
      "metadata": {
        "id": "view-in-github",
        "colab_type": "text"
      },
      "source": [
        "<a href=\"https://colab.research.google.com/github/bhavarth-joshi/test/blob/main/Basic_ANN.ipynb\" target=\"_parent\"><img src=\"https://colab.research.google.com/assets/colab-badge.svg\" alt=\"Open In Colab\"/></a>"
      ]
    },
    {
      "cell_type": "code",
      "execution_count": 1,
      "metadata": {
        "id": "fn4tB-cuB9Gn"
      },
      "outputs": [],
      "source": [
        "import numpy as np\n",
        "from keras.models import Sequential\n",
        "from keras.layers import Dense\n",
        "from keras.optimizers import Adam"
      ]
    },
    {
      "cell_type": "markdown",
      "source": [
        "Create a sequential model"
      ],
      "metadata": {
        "id": "fSp5BZu9Ezru"
      }
    },
    {
      "cell_type": "code",
      "source": [
        "model = Sequential()"
      ],
      "metadata": {
        "id": "F9wLYJ1hE2Cj"
      },
      "execution_count": 2,
      "outputs": []
    },
    {
      "cell_type": "markdown",
      "source": [
        "Define input and output data"
      ],
      "metadata": {
        "id": "oxyJ39vdE_5m"
      }
    },
    {
      "cell_type": "code",
      "source": [
        "X_train = np.random.rand(100, 10) # Example data\n",
        "y_train = np.random.randint(0, 2, (100, 1)) # Example labels"
      ],
      "metadata": {
        "id": "212Xw3YbFBMo"
      },
      "execution_count": 3,
      "outputs": []
    },
    {
      "cell_type": "markdown",
      "source": [
        "Define the model"
      ],
      "metadata": {
        "id": "2hAwYeXWGMei"
      }
    },
    {
      "cell_type": "code",
      "source": [
        "model = Sequential()\n",
        "model.add(Dense(10, input_shape=(X_train.shape[1],), activation='relu'))\n",
        "model.add(Dense(10, activation='relu'))\n",
        "model.add(Dense(1, activation='sigmoid'))"
      ],
      "metadata": {
        "id": "x_t3dJbOGOaN"
      },
      "execution_count": 4,
      "outputs": []
    },
    {
      "cell_type": "markdown",
      "source": [
        "# Working of ReLU?\n",
        "```\n",
        "ReLU(x) = max(0, x)\n",
        "```\n",
        "The ReLU function is a simple, yet effective way of introducing non-linearity into a neural network. When the input x is positive, the ReLU function simply returns x. This means that any positive values in the input are preserved in the output. When the input x is negative, the ReLU function returns 0. This means that any negative values in the input are \"clipped\" to 0 in the output. By introducing this non-linearity, the ReLU function allows neural networks to model more complex relationships between the inputs and the outputs.\n",
        "\n",
        "The ReLU function is computationally efficient, since it involves only simple comparisons and is very fast to compute. Additionally, it helps to mitigate the vanishing gradient problem that can occur with other activation functions, since it allows gradients to flow more easily through the network.\n",
        "\n"
      ],
      "metadata": {
        "id": "BJGJZLstHJEO"
      }
    },
    {
      "cell_type": "markdown",
      "source": [
        "# Working of Sigmoid Function\n",
        "\n",
        "\n",
        "A sigmoid function is a mathematical function that maps any input value to a value between 0 and 1. The most commonly used sigmoid function is the logistic function, which is defined as:\n",
        "\n",
        "f(x) = 1 / (1 + e^-x) \n",
        "\n",
        "where x is the input to the function, and e is the mathematical constant approximately equal to 2.71828.\n",
        "\n",
        "\n",
        "The sigmoid activation function is commonly used in the output layer of binary classification problems, where the goal is to classify input data into one of two classes. The sigmoid function has a range between 0 and 1, and can be interpreted as a probability score. So, in binary classification problems, the output of the sigmoid function can be interpreted as the probability of the input belonging to the positive class. If this probability is above a certain threshold, the input is classified as belonging to the positive class; otherwise, it is classified as belonging to the negative class.\n",
        "\n",
        "It's worth noting that the sigmoid function can also be used in the hidden layers of a neural network, but its use has been largely replaced by the ReLU activation function. The ReLU function is computationally efficient and has been shown to perform better than the sigmoid function in deep neural networks, where there are many layers.\n",
        "\n",
        "In summary, the sigmoid activation function is commonly used in the output layer of binary classification problems, because it produces output in the range of probabilities and allows easy classification of input into one of two classes."
      ],
      "metadata": {
        "id": "C2ssM-VsIpsQ"
      }
    },
    {
      "cell_type": "markdown",
      "source": [
        "Compile the model"
      ],
      "metadata": {
        "id": "UwFkdqNWK7HQ"
      }
    },
    {
      "cell_type": "code",
      "source": [
        "model.compile(loss='binary_crossentropy', optimizer=Adam(lr=0.001), metrics=['accuracy'])"
      ],
      "metadata": {
        "id": "dU6s_Y1GH2RX",
        "colab": {
          "base_uri": "https://localhost:8080/"
        },
        "outputId": "df52d062-c2fd-4086-9b61-dcce4c0baf16"
      },
      "execution_count": 5,
      "outputs": [
        {
          "output_type": "stream",
          "name": "stderr",
          "text": [
            "/usr/local/lib/python3.10/dist-packages/keras/optimizers/legacy/adam.py:117: UserWarning: The `lr` argument is deprecated, use `learning_rate` instead.\n",
            "  super().__init__(name, **kwargs)\n"
          ]
        }
      ]
    },
    {
      "cell_type": "markdown",
      "source": [
        "After building a neural network model, it is necessary to specify the loss function, optimizer, and evaluation metrics before training the model. This step is known as model compilation.\n",
        "\n",
        "In the given code, the model is being compiled using the `compile()` function. The `compile()` function accepts several arguments to configure the model for training, including the loss function, optimizer, and metrics.\n",
        "\n",
        "\n",
        "* `loss` is a function that measures the difference between the predicted and actual output. In binary classification problems, `binary_crossentropy` is a commonly used loss function. It measures the difference between the predicted probability distribution and the actual probability distribution of the binary class labels.\n",
        " * `optimizer` is an algorithm used to update the weights of the neural network during training. In this case, the `Adam` optimizer is being used with a learning rate of 0.001. Adam is a popular optimization algorithm that uses adaptive learning rates to update the weights.\n",
        " * `metrics` are used to evaluate the performance of the model during training and testing. In this case, `accuracy` is being used as the evaluation metric. It measures the fraction of correctly classified samples out of the total number of samples.\n",
        "\n",
        "\n",
        "\n"
      ],
      "metadata": {
        "id": "aaTlmo4mLJkE"
      }
    },
    {
      "cell_type": "markdown",
      "source": [
        "# Fit the model to training data"
      ],
      "metadata": {
        "id": "xhsiHsr1NFDH"
      }
    },
    {
      "cell_type": "code",
      "source": [
        "model.fit(X_train, y_train, epochs=10, batch_size=32)"
      ],
      "metadata": {
        "id": "HHqsp7OXNDSI",
        "colab": {
          "base_uri": "https://localhost:8080/"
        },
        "outputId": "93d44f8e-d7e7-44bd-e38c-4967a661ef3b"
      },
      "execution_count": 6,
      "outputs": [
        {
          "output_type": "stream",
          "name": "stdout",
          "text": [
            "Epoch 1/10\n",
            "4/4 [==============================] - 3s 6ms/step - loss: 0.7126 - accuracy: 0.4700\n",
            "Epoch 2/10\n",
            "4/4 [==============================] - 0s 5ms/step - loss: 0.7087 - accuracy: 0.4600\n",
            "Epoch 3/10\n",
            "4/4 [==============================] - 0s 5ms/step - loss: 0.7061 - accuracy: 0.5000\n",
            "Epoch 4/10\n",
            "4/4 [==============================] - 0s 4ms/step - loss: 0.7028 - accuracy: 0.5400\n",
            "Epoch 5/10\n",
            "4/4 [==============================] - 0s 4ms/step - loss: 0.7001 - accuracy: 0.4800\n",
            "Epoch 6/10\n",
            "4/4 [==============================] - 0s 4ms/step - loss: 0.6979 - accuracy: 0.4900\n",
            "Epoch 7/10\n",
            "4/4 [==============================] - 0s 4ms/step - loss: 0.6964 - accuracy: 0.5200\n",
            "Epoch 8/10\n",
            "4/4 [==============================] - 0s 4ms/step - loss: 0.6955 - accuracy: 0.5300\n",
            "Epoch 9/10\n",
            "4/4 [==============================] - 0s 4ms/step - loss: 0.6951 - accuracy: 0.4700\n",
            "Epoch 10/10\n",
            "4/4 [==============================] - 0s 4ms/step - loss: 0.6937 - accuracy: 0.4600\n"
          ]
        },
        {
          "output_type": "execute_result",
          "data": {
            "text/plain": [
              "<keras.callbacks.History at 0x7f708c1a9000>"
            ]
          },
          "metadata": {},
          "execution_count": 6
        }
      ]
    },
    {
      "cell_type": "markdown",
      "source": [
        "The `fit()` function is used to train a neural network model. The function accepts several arguments, including the training data, labels, number of epochs, and batch size. Here's what each argument means:\n",
        "*   `X_train` is the input data used for training the model.\n",
        "*   `y_train` is the target labels for the input data used for training the model.\n",
        "*   `epochs` is the number of times the training data will be passed through the neural network model. In this case, the model will be trained for 10 epochs.\n",
        "*   `batch_size` is the number of training examples used in one iteration of gradient descent. In this case, the batch size is set to 32. This means that the model will be updated after every 32 training examples.\n",
        "\n",
        "During training, the fit() function will repeatedly pass the training data and labels through the neural network, compute the loss function and optimize the model using the backpropagation algorithm. The model will adjust its weights to minimize the loss function and improve its accuracy. The training process will continue for the specified number of epochs or until convergence."
      ],
      "metadata": {
        "id": "WHGzaKMuOYzE"
      }
    },
    {
      "cell_type": "code",
      "source": [
        "# Use the model to make predictions\n",
        "X_test = np.random.rand(10, 10) # Example test data\n",
        "y_pred = model.predict(X_test)"
      ],
      "metadata": {
        "id": "iykeLFMfQLL0",
        "colab": {
          "base_uri": "https://localhost:8080/"
        },
        "outputId": "5ba4bc01-439f-4683-ea22-ee314d6e3a3f"
      },
      "execution_count": 7,
      "outputs": [
        {
          "output_type": "stream",
          "name": "stdout",
          "text": [
            "1/1 [==============================] - 0s 67ms/step\n"
          ]
        }
      ]
    },
    {
      "cell_type": "markdown",
      "source": [
        "# Now print the accuracy"
      ],
      "metadata": {
        "id": "8TdjSWspQ_r3"
      }
    },
    {
      "cell_type": "code",
      "source": [
        "y_test = np.random.randint(0, 2, (10, 1)) # Example labels"
      ],
      "metadata": {
        "id": "tAPLFR9y3SBo"
      },
      "execution_count": 14,
      "outputs": []
    },
    {
      "cell_type": "code",
      "source": [
        "# Convert probabilities to class labels\n",
        "y_pred = (y_pred > 0.5)\n",
        "\n",
        "# Calculate accuracy on the test set\n",
        "from sklearn.metrics import accuracy_score\n",
        "accuracy = accuracy_score(y_test, y_pred)\n",
        "\n",
        "# Print the accuracy metric\n",
        "print(\"Accuracy: \", accuracy)"
      ],
      "metadata": {
        "id": "_PlZV_r2RChF",
        "colab": {
          "base_uri": "https://localhost:8080/"
        },
        "outputId": "83a65e50-aeab-47e6-c51e-0bec42a3686f"
      },
      "execution_count": 15,
      "outputs": [
        {
          "output_type": "stream",
          "name": "stdout",
          "text": [
            "Accuracy:  0.5\n"
          ]
        }
      ]
    },
    {
      "cell_type": "markdown",
      "source": [
        "# Creating a Multi layer Perceptron"
      ],
      "metadata": {
        "id": "oCt6djinjftI"
      }
    },
    {
      "cell_type": "markdown",
      "source": [
        "Problem: Given a dataset of flower samples with four input features (sepal length, sepal width, petal length, and petal width), build a machine learning model to classify each flower sample into one of three species: setosa, versicolor, or virginica.\n",
        "\n",
        "Dataset: The Iris dataset from scikit-learn's datasets module is used for this problem. The dataset contains 150 samples with 4 input features and 3 output classes."
      ],
      "metadata": {
        "id": "IVQZ4uP6jmKj"
      }
    },
    {
      "cell_type": "code",
      "source": [
        "# Import libraries\n",
        "from sklearn.datasets import load_iris\n",
        "from sklearn.model_selection import train_test_split\n",
        "from sklearn.neural_network import MLPClassifier\n",
        "from sklearn.metrics import accuracy_score\n",
        "\n",
        "# Load the Iris dataset\n",
        "iris = load_iris()\n",
        "\n",
        "# Split the dataset into training and test sets\n",
        "X_train, X_test, y_train, y_test = train_test_split(iris.data, iris.target, test_size=0.3, random_state=42)\n",
        "\n",
        "# Build the MLP classifier model\n",
        "model = MLPClassifier(hidden_layer_sizes=(10,), activation='relu', solver='adam', max_iter=500)\n",
        "\n",
        "# Train the model on the training set\n",
        "model.fit(X_train, y_train)\n",
        "\n",
        "# Make predictions on the test set\n",
        "y_pred = model.predict(X_test)\n",
        "\n",
        "# Calculate accuracy on the test set\n",
        "accuracy = accuracy_score(y_test, y_pred)\n",
        "\n",
        "# Print the accuracy metric\n",
        "print(\"Accuracy: \", accuracy)"
      ],
      "metadata": {
        "id": "zUoWYrxAmaHf",
        "colab": {
          "base_uri": "https://localhost:8080/"
        },
        "outputId": "f3ded920-262c-4b8b-a53f-cdb5439e7422"
      },
      "execution_count": 16,
      "outputs": [
        {
          "output_type": "stream",
          "name": "stdout",
          "text": [
            "Accuracy:  0.9777777777777777\n"
          ]
        },
        {
          "output_type": "stream",
          "name": "stderr",
          "text": [
            "/usr/local/lib/python3.10/dist-packages/sklearn/neural_network/_multilayer_perceptron.py:686: ConvergenceWarning: Stochastic Optimizer: Maximum iterations (500) reached and the optimization hasn't converged yet.\n",
            "  warnings.warn(\n"
          ]
        }
      ]
    },
    {
      "cell_type": "markdown",
      "source": [
        "# Creating a CNN\n"
      ],
      "metadata": {
        "id": "s2BciORHxEK8"
      }
    },
    {
      "cell_type": "code",
      "source": [
        "from keras.models import Sequential\n",
        "from keras.layers import Conv2D, MaxPooling2D, Flatten, Dense\n",
        "\n",
        "# Define the model architecture\n",
        "model = Sequential()\n",
        "\n",
        "# Add the first convolutional layer\n",
        "model.add(Conv2D(filters=32, kernel_size=(3,3), activation='relu', input_shape=(32,32,3)))\n",
        "\n",
        "# Add a max pooling layer\n",
        "model.add(MaxPooling2D(pool_size=(2,2)))\n",
        "\n",
        "# Add the second convolutional layer\n",
        "model.add(Conv2D(filters=64, kernel_size=(3,3), activation='relu'))\n",
        "\n",
        "# Add another max pooling layer\n",
        "model.add(MaxPooling2D(pool_size=(2,2)))\n",
        "\n",
        "# Add a flattening layer to convert the 2D feature maps to 1D feature vectors\n",
        "model.add(Flatten())\n",
        "\n",
        "# Add a fully connected layer with 128 neurons and ReLU activation\n",
        "model.add(Dense(units=128, activation='relu'))\n",
        "\n",
        "# Add the output layer with softmax activation for classification\n",
        "model.add(Dense(units=10, activation='softmax'))\n",
        "\n",
        "# Compile the model with categorical cross-entropy loss and Adam optimizer\n",
        "model.compile(loss='categorical_crossentropy', optimizer='adam', metrics=['accuracy'])"
      ],
      "metadata": {
        "id": "-iA9GN8yxHPc"
      },
      "execution_count": 17,
      "outputs": []
    },
    {
      "cell_type": "markdown",
      "source": [
        "# Polt the architecture"
      ],
      "metadata": {
        "id": "6Z6wC-hkykpv"
      }
    },
    {
      "cell_type": "code",
      "source": [
        "from keras.utils import plot_model\n",
        "\n",
        "plot_model(model, to_file='basic_cnn.png', show_shapes=True)"
      ],
      "metadata": {
        "id": "34uZxAqFynHN",
        "colab": {
          "base_uri": "https://localhost:8080/",
          "height": 865
        },
        "outputId": "e438148f-5268-47ed-83ba-f8f96415a08e"
      },
      "execution_count": 18,
      "outputs": [
        {
          "output_type": "execute_result",
          "data": {
            "image/png": "[encoded data removed]",
            "text/plain": [
              "<IPython.core.display.Image object>"
            ]
          },
          "metadata": {},
          "execution_count": 18
        }
      ]
    },
    {
      "cell_type": "code",
      "source": [
        "!sudo apt-get install tesseract-ocr"
      ],
      "metadata": {
        "id": "5psPlFRjESB8",
        "colab": {
          "base_uri": "https://localhost:8080/"
        },
        "outputId": "5503fa24-23c0-4d23-f9bc-75b0b0bdd5ae"
      },
      "execution_count": 20,
      "outputs": [
        {
          "output_type": "stream",
          "name": "stdout",
          "text": [
            "Reading package lists... Done\n",
            "Building dependency tree       \n",
            "Reading state information... Done\n",
            "The following additional packages will be installed:\n",
            "  tesseract-ocr-eng tesseract-ocr-osd\n",
            "The following NEW packages will be installed:\n",
            "  tesseract-ocr tesseract-ocr-eng tesseract-ocr-osd\n",
            "0 upgraded, 3 newly installed, 0 to remove and 24 not upgraded.\n",
            "Need to get 4,850 kB of archives.\n",
            "After this operation, 16.3 MB of additional disk space will be used.\n",
            "Get:1 http://archive.ubuntu.com/ubuntu focal/universe amd64 tesseract-ocr-eng all 1:4.00~git30-7274cfa-1 [1,598 kB]\n",
            "Get:2 http://archive.ubuntu.com/ubuntu focal/universe amd64 tesseract-ocr-osd all 1:4.00~git30-7274cfa-1 [2,990 kB]\n",
            "Get:3 http://archive.ubuntu.com/ubuntu focal/universe amd64 tesseract-ocr amd64 4.1.1-2build2 [262 kB]\n",
            "Fetched 4,850 kB in 2s (3,109 kB/s)\n",
            "debconf: unable to initialize frontend: Dialog\n",
            "debconf: (No usable dialog-like program is installed, so the dialog based frontend cannot be used. at /usr/share/perl5/Debconf/FrontEnd/Dialog.pm line 76, <> line 3.)\n",
            "debconf: falling back to frontend: Readline\n",
            "debconf: unable to initialize frontend: Readline\n",
            "debconf: (This frontend requires a controlling tty.)\n",
            "debconf: falling back to frontend: Teletype\n",
            "dpkg-preconfigure: unable to re-open stdin: \n",
            "Selecting previously unselected package tesseract-ocr-eng.\n",
            "(Reading database ... 122518 files and directories currently installed.)\n",
            "Preparing to unpack .../tesseract-ocr-eng_1%3a4.00~git30-7274cfa-1_all.deb ...\n",
            "Unpacking tesseract-ocr-eng (1:4.00~git30-7274cfa-1) ...\n",
            "Selecting previously unselected package tesseract-ocr-osd.\n",
            "Preparing to unpack .../tesseract-ocr-osd_1%3a4.00~git30-7274cfa-1_all.deb ...\n",
            "Unpacking tesseract-ocr-osd (1:4.00~git30-7274cfa-1) ...\n",
            "Selecting previously unselected package tesseract-ocr.\n",
            "Preparing to unpack .../tesseract-ocr_4.1.1-2build2_amd64.deb ...\n",
            "Unpacking tesseract-ocr (4.1.1-2build2) ...\n",
            "Setting up tesseract-ocr-eng (1:4.00~git30-7274cfa-1) ...\n",
            "Setting up tesseract-ocr-osd (1:4.00~git30-7274cfa-1) ...\n",
            "Setting up tesseract-ocr (4.1.1-2build2) ...\n",
            "Processing triggers for man-db (2.9.1-1) ...\n"
          ]
        }
      ]
    },
    {
      "cell_type": "code",
      "source": [
        "!pip install pytesseract"
      ],
      "metadata": {
        "id": "ioogvK0uArmm",
        "colab": {
          "base_uri": "https://localhost:8080/"
        },
        "outputId": "36631a16-5ca4-4522-b1fe-77d482a91eae"
      },
      "execution_count": 24,
      "outputs": [
        {
          "output_type": "stream",
          "name": "stdout",
          "text": [
            "Looking in indexes: https://pypi.org/simple, https://us-python.pkg.dev/colab-wheels/public/simple/\n",
            "Requirement already satisfied: pytesseract in /usr/local/lib/python3.10/dist-packages (0.3.10)\n",
            "Requirement already satisfied: Pillow>=8.0.0 in /usr/local/lib/python3.10/dist-packages (from pytesseract) (8.4.0)\n",
            "Requirement already satisfied: packaging>=21.3 in /usr/local/lib/python3.10/dist-packages (from pytesseract) (23.1)\n"
          ]
        }
      ]
    },
    {
      "cell_type": "code",
      "source": [
        "import cv2\n",
        "import pytesseract\n",
        "\n",
        "# Load the image\n",
        "img = cv2.imread('/content/drive/MyDrive/Colab Notebooks/PXL_20230501_060044697.jpg')\n",
        "\n",
        "# Convert the image to grayscale\n",
        "gray = cv2.cvtColor(img, cv2.COLOR_BGR2GRAY)\n",
        "\n",
        "# Apply thresholding to binarize the image\n",
        "_, thresh = cv2.threshold(gray, 0, 255, cv2.THRESH_BINARY_INV + cv2.THRESH_OTSU)\n",
        "\n",
        "# Apply morphology to remove noise and connect text regions\n",
        "kernel = cv2.getStructuringElement(cv2.MORPH_RECT, (3, 3))\n",
        "morph = cv2.morphologyEx(thresh, cv2.MORPH_CLOSE, kernel)\n",
        "\n",
        "# Detect text using Pytesseract\n",
        "text = pytesseract.image_to_string(morph)\n",
        "\n",
        "# Print the extracted text\n",
        "print(text)"
      ],
      "metadata": {
        "id": "sASZoeTpAfW4",
        "colab": {
          "base_uri": "https://localhost:8080/"
        },
        "outputId": "f2c037ef-1163-431f-8802-b16d1eb380cc"
      },
      "execution_count": 29,
      "outputs": [
        {
          "output_type": "stream",
          "name": "stdout",
          "text": [
            " \n",
            "\n",
            " \n",
            "\n",
            " \n",
            "\n",
            " \n",
            "\n",
            " \n",
            "\n",
            "'\n",
            "\n",
            "ery\n",
            "\n",
            "See atL\n",
            "\n",
            "as\n",
            "\n",
            "ae ae gt\n",
            "\n",
            "ee\n",
            "\n",
            " \n",
            "\f\n"
          ]
        }
      ]
    }
  ]
}